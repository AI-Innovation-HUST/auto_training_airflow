{
 "cells": [
  {
   "cell_type": "code",
   "execution_count": 1,
   "metadata": {},
   "outputs": [],
   "source": [
    "from dotenv import load_dotenv\n",
    "import okx.Account as Account\n",
    "import os\n",
    "import okx.Trade as Trade\n",
    "\n",
    "# Load environment variables from .env file\n",
    "load_dotenv()\n",
    "\n",
    "# Get environment variables\n",
    "api_key = os.getenv(\"API_KEY\")\n",
    "secret_key = os.getenv(\"SECRET_KEY\")    \n",
    "passphrase = os.getenv(\"PASSPHRASE\")\n",
    "\n",
    "flag = \"1\"  # live trading: 0, demo trading: 1\n",
    "\n",
    "accountAPI = Account.AccountAPI(api_key, secret_key, passphrase, False, flag)\n",
    "tradeAPI = Trade.TradeAPI(api_key, secret_key, passphrase, False, flag)"
   ]
  },
  {
   "cell_type": "code",
   "execution_count": null,
   "metadata": {},
   "outputs": [],
   "source": [
    "# # Retrieve current account configuration\n",
    "# config = accountAPI.get_account_config()"
   ]
  },
  {
   "cell_type": "code",
   "execution_count": 2,
   "metadata": {},
   "outputs": [
    {
     "name": "stderr",
     "output_type": "stream",
     "text": [
      "\u001b[32m2024-11-27 12:50:49.856\u001b[0m | \u001b[34m\u001b[1mDEBUG   \u001b[0m | \u001b[36mokx.utils\u001b[0m:\u001b[36mpre_hash\u001b[0m:\u001b[36m18\u001b[0m - \u001b[34m\u001b[1mbody: {\"posMode\": \"long_short_mode\"}\u001b[0m\n",
      "\u001b[32m2024-11-27 12:50:49.860\u001b[0m | \u001b[34m\u001b[1mDEBUG   \u001b[0m | \u001b[36mokx.utils\u001b[0m:\u001b[36mget_header\u001b[0m:\u001b[36m31\u001b[0m - \u001b[34m\u001b[1mheader: {'Content-Type': 'application/json', 'OK-ACCESS-KEY': '3cebf7a2-cea6-42b3-8ccf-e5a7c65464f2', 'OK-ACCESS-SIGN': b'czu3aWBo6gEIk38RnkrKPNdhdBa69qoubaS9OPl0JwY=', 'OK-ACCESS-TIMESTAMP': '2024-11-27T05:50:49.856Z', 'OK-ACCESS-PASSPHRASE': 'Truongan@2001', 'x-simulated-trading': '1'}\u001b[0m\n",
      "\u001b[32m2024-11-27 12:50:49.861\u001b[0m | \u001b[34m\u001b[1mDEBUG   \u001b[0m | \u001b[36mokx.okxclient\u001b[0m:\u001b[36m_request\u001b[0m:\u001b[36m42\u001b[0m - \u001b[34m\u001b[1mdomain: https://www.okx.com\u001b[0m\n",
      "\u001b[32m2024-11-27 12:50:49.862\u001b[0m | \u001b[34m\u001b[1mDEBUG   \u001b[0m | \u001b[36mokx.okxclient\u001b[0m:\u001b[36m_request\u001b[0m:\u001b[36m43\u001b[0m - \u001b[34m\u001b[1murl: /api/v5/account/set-position-mode\u001b[0m\n",
      "\u001b[32m2024-11-27 12:50:49.863\u001b[0m | \u001b[34m\u001b[1mDEBUG   \u001b[0m | \u001b[36mokx.okxclient\u001b[0m:\u001b[36m_request\u001b[0m:\u001b[36m44\u001b[0m - \u001b[34m\u001b[1mbody:{\"posMode\": \"long_short_mode\"}\u001b[0m\n"
     ]
    }
   ],
   "source": [
    "# # Set position mode\n",
    "# mode = accountAPI.set_position_mode(\n",
    "#     posMode=\"long_short_mode\"\n",
    "# )"
   ]
  },
  {
   "cell_type": "code",
   "execution_count": 22,
   "metadata": {},
   "outputs": [
    {
     "name": "stderr",
     "output_type": "stream",
     "text": [
      "\u001b[32m2024-11-27 13:03:16.464\u001b[0m | \u001b[34m\u001b[1mDEBUG   \u001b[0m | \u001b[36mokx.utils\u001b[0m:\u001b[36mpre_hash\u001b[0m:\u001b[36m18\u001b[0m - \u001b[34m\u001b[1mbody: {\"lever\": \"50\", \"mgnMode\": \"cross\", \"instId\": \"BTC-USDT-SWAP\", \"ccy\": \"\", \"posSide\": \"\"}\u001b[0m\n",
      "\u001b[32m2024-11-27 13:03:16.465\u001b[0m | \u001b[34m\u001b[1mDEBUG   \u001b[0m | \u001b[36mokx.utils\u001b[0m:\u001b[36mget_header\u001b[0m:\u001b[36m31\u001b[0m - \u001b[34m\u001b[1mheader: {'Content-Type': 'application/json', 'OK-ACCESS-KEY': '3cebf7a2-cea6-42b3-8ccf-e5a7c65464f2', 'OK-ACCESS-SIGN': b'a6Mz+j2MVVJocmP+LR8w09dYO/AlI/ctphjB880ntC0=', 'OK-ACCESS-TIMESTAMP': '2024-11-27T06:03:16.464Z', 'OK-ACCESS-PASSPHRASE': 'Truongan@2001', 'x-simulated-trading': '1'}\u001b[0m\n",
      "\u001b[32m2024-11-27 13:03:16.465\u001b[0m | \u001b[34m\u001b[1mDEBUG   \u001b[0m | \u001b[36mokx.okxclient\u001b[0m:\u001b[36m_request\u001b[0m:\u001b[36m42\u001b[0m - \u001b[34m\u001b[1mdomain: https://www.okx.com\u001b[0m\n",
      "\u001b[32m2024-11-27 13:03:16.465\u001b[0m | \u001b[34m\u001b[1mDEBUG   \u001b[0m | \u001b[36mokx.okxclient\u001b[0m:\u001b[36m_request\u001b[0m:\u001b[36m43\u001b[0m - \u001b[34m\u001b[1murl: /api/v5/account/set-leverage\u001b[0m\n",
      "\u001b[32m2024-11-27 13:03:16.465\u001b[0m | \u001b[34m\u001b[1mDEBUG   \u001b[0m | \u001b[36mokx.okxclient\u001b[0m:\u001b[36m_request\u001b[0m:\u001b[36m44\u001b[0m - \u001b[34m\u001b[1mbody:{\"lever\": \"50\", \"mgnMode\": \"cross\", \"instId\": \"BTC-USDT-SWAP\", \"ccy\": \"\", \"posSide\": \"\"}\u001b[0m\n"
     ]
    }
   ],
   "source": [
    "# Set leverage for MARGIN instruments under isolated-margin trade mode at pairs level.\n",
    "lever = accountAPI.set_leverage(\n",
    "    instId=\"BTC-USDT-SWAP\",\n",
    "    lever=\"50\",\n",
    "    mgnMode=\"cross\"\n",
    ")"
   ]
  },
  {
   "cell_type": "code",
   "execution_count": 25,
   "metadata": {},
   "outputs": [
    {
     "name": "stderr",
     "output_type": "stream",
     "text": [
      "\u001b[32m2024-11-27 13:06:34.135\u001b[0m | \u001b[34m\u001b[1mDEBUG   \u001b[0m | \u001b[36mokx.utils\u001b[0m:\u001b[36mpre_hash\u001b[0m:\u001b[36m18\u001b[0m - \u001b[34m\u001b[1mbody: {\"instId\": \"BTC-USDT-SWAP\", \"tdMode\": \"cross\", \"side\": \"buy\", \"ordType\": \"market\", \"sz\": \"10\", \"ccy\": \"\", \"clOrdId\": \"b5\", \"tag\": \"\", \"posSide\": \"long\", \"px\": \"\", \"reduceOnly\": \"\", \"tgtCcy\": \"\", \"tpTriggerPx\": 100000, \"tpOrdPx\": \"-1\", \"slTriggerPx\": 40000, \"slOrdPx\": \"-1\", \"tpTriggerPxType\": \"\", \"slTriggerPxType\": \"\", \"quickMgnType\": \"\", \"stpId\": \"\", \"stpMode\": \"\", \"attachAlgoOrds\": null}\u001b[0m\n",
      "\u001b[32m2024-11-27 13:06:34.137\u001b[0m | \u001b[34m\u001b[1mDEBUG   \u001b[0m | \u001b[36mokx.utils\u001b[0m:\u001b[36mget_header\u001b[0m:\u001b[36m31\u001b[0m - \u001b[34m\u001b[1mheader: {'Content-Type': 'application/json', 'OK-ACCESS-KEY': '3cebf7a2-cea6-42b3-8ccf-e5a7c65464f2', 'OK-ACCESS-SIGN': b'GIGZaM+984bwlkYcID0Al+526VsGdXzVl5kX+bTbsII=', 'OK-ACCESS-TIMESTAMP': '2024-11-27T06:06:34.135Z', 'OK-ACCESS-PASSPHRASE': 'Truongan@2001', 'x-simulated-trading': '1'}\u001b[0m\n",
      "\u001b[32m2024-11-27 13:06:34.137\u001b[0m | \u001b[34m\u001b[1mDEBUG   \u001b[0m | \u001b[36mokx.okxclient\u001b[0m:\u001b[36m_request\u001b[0m:\u001b[36m42\u001b[0m - \u001b[34m\u001b[1mdomain: https://www.okx.com\u001b[0m\n",
      "\u001b[32m2024-11-27 13:06:34.138\u001b[0m | \u001b[34m\u001b[1mDEBUG   \u001b[0m | \u001b[36mokx.okxclient\u001b[0m:\u001b[36m_request\u001b[0m:\u001b[36m43\u001b[0m - \u001b[34m\u001b[1murl: /api/v5/trade/order\u001b[0m\n",
      "\u001b[32m2024-11-27 13:06:34.139\u001b[0m | \u001b[34m\u001b[1mDEBUG   \u001b[0m | \u001b[36mokx.okxclient\u001b[0m:\u001b[36m_request\u001b[0m:\u001b[36m44\u001b[0m - \u001b[34m\u001b[1mbody:{\"instId\": \"BTC-USDT-SWAP\", \"tdMode\": \"cross\", \"side\": \"buy\", \"ordType\": \"market\", \"sz\": \"10\", \"ccy\": \"\", \"clOrdId\": \"b5\", \"tag\": \"\", \"posSide\": \"long\", \"px\": \"\", \"reduceOnly\": \"\", \"tgtCcy\": \"\", \"tpTriggerPx\": 100000, \"tpOrdPx\": \"-1\", \"slTriggerPx\": 40000, \"slOrdPx\": \"-1\", \"tpTriggerPxType\": \"\", \"slTriggerPxType\": \"\", \"quickMgnType\": \"\", \"stpId\": \"\", \"stpMode\": \"\", \"attachAlgoOrds\": null}\u001b[0m\n"
     ]
    }
   ],
   "source": [
    "# Spot mode, limit order\n",
    "trade = tradeAPI.place_order(\n",
    "    instId=\"BTC-USDT-SWAP\",\n",
    "    tdMode=\"cross\",\n",
    "    clOrdId=\"b5\",\n",
    "    side=\"buy\",\n",
    "    ordType=\"market\",\n",
    "    posSide='long',\n",
    "    sz=\"10\",\n",
    "    tpTriggerPx=100000,\n",
    "    tpOrdPx=\"-1\",\n",
    "    slTriggerPx=40000,\n",
    "    slOrdPx=\"-1\",\n",
    ")"
   ]
  },
  {
   "cell_type": "code",
   "execution_count": 24,
   "metadata": {},
   "outputs": [
    {
     "name": "stderr",
     "output_type": "stream",
     "text": [
      "\u001b[32m2024-11-27 13:03:28.926\u001b[0m | \u001b[34m\u001b[1mDEBUG   \u001b[0m | \u001b[36mokx.utils\u001b[0m:\u001b[36mpre_hash\u001b[0m:\u001b[36m18\u001b[0m - \u001b[34m\u001b[1mbody: \u001b[0m\n",
      "\u001b[32m2024-11-27 13:03:28.927\u001b[0m | \u001b[34m\u001b[1mDEBUG   \u001b[0m | \u001b[36mokx.utils\u001b[0m:\u001b[36mget_header\u001b[0m:\u001b[36m31\u001b[0m - \u001b[34m\u001b[1mheader: {'Content-Type': 'application/json', 'OK-ACCESS-KEY': '3cebf7a2-cea6-42b3-8ccf-e5a7c65464f2', 'OK-ACCESS-SIGN': b'fvvKvyrZdZ/OdBkav8zuMY9Sf16awOzIcCGeCPHXDqI=', 'OK-ACCESS-TIMESTAMP': '2024-11-27T06:03:28.926Z', 'OK-ACCESS-PASSPHRASE': 'Truongan@2001', 'x-simulated-trading': '1'}\u001b[0m\n",
      "\u001b[32m2024-11-27 13:03:28.929\u001b[0m | \u001b[34m\u001b[1mDEBUG   \u001b[0m | \u001b[36mokx.okxclient\u001b[0m:\u001b[36m_request\u001b[0m:\u001b[36m42\u001b[0m - \u001b[34m\u001b[1mdomain: https://www.okx.com\u001b[0m\n",
      "\u001b[32m2024-11-27 13:03:28.930\u001b[0m | \u001b[34m\u001b[1mDEBUG   \u001b[0m | \u001b[36mokx.okxclient\u001b[0m:\u001b[36m_request\u001b[0m:\u001b[36m43\u001b[0m - \u001b[34m\u001b[1murl: /api/v5/account/balance\u001b[0m\n",
      "\u001b[32m2024-11-27 13:03:28.930\u001b[0m | \u001b[34m\u001b[1mDEBUG   \u001b[0m | \u001b[36mokx.okxclient\u001b[0m:\u001b[36m_request\u001b[0m:\u001b[36m44\u001b[0m - \u001b[34m\u001b[1mbody:\u001b[0m\n"
     ]
    },
    {
     "name": "stdout",
     "output_type": "stream",
     "text": [
      "4891.560811945\n"
     ]
    }
   ],
   "source": [
    "# Get account balance\n",
    "result = accountAPI.get_account_balance()\n",
    "print(result['data'][0]['details'][2]['availBal'])"
   ]
  },
  {
   "cell_type": "code",
   "execution_count": null,
   "metadata": {},
   "outputs": [],
   "source": []
  }
 ],
 "metadata": {
  "kernelspec": {
   "display_name": "test",
   "language": "python",
   "name": "python3"
  },
  "language_info": {
   "name": "python",
   "version": "3.13.0"
  }
 },
 "nbformat": 4,
 "nbformat_minor": 2
}
